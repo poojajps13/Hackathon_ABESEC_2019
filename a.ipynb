{
 "cells": [
  {
   "cell_type": "code",
   "execution_count": 1,
   "metadata": {},
   "outputs": [
    {
     "name": "stderr",
     "output_type": "stream",
     "text": [
      "Using Theano backend.\n"
     ]
    }
   ],
   "source": [
    "\"\"\" importing libraries \"\"\"\n",
    "import pandas as pd\n",
    "import numpy as np\n",
    "import matplotlib.pyplot as plt\n",
    "from sklearn.preprocessing import Imputer\n",
    "from sklearn.preprocessing import LabelEncoder, OneHotEncoder\n",
    "import datetime as dt\n",
    "from sklearn.model_selection import train_test_split\n",
    "from sklearn.metrics import confusion_matrix\n",
    "from sklearn.model_selection import cross_val_score\n",
    "from xgboost import XGBClassifier\n",
    "from sklearn.preprocessing import StandardScaler\n",
    "from keras.models import Sequential\n",
    "from keras.layers import Dense\n",
    "from keras.wrappers.scikit_learn import KerasClassifier\n",
    "from sklearn.model_selection import GridSearchCV\n",
    "\n"
   ]
  },
  {
   "cell_type": "code",
   "execution_count": 2,
   "metadata": {},
   "outputs": [],
   "source": [
    "\n",
    "\"\"\" importing datasets \"\"\"\n",
    "dataset1 = pd.read_csv(\"Hackthon_case_training_data.csv\")\n",
    "dataset2 = pd.read_csv(\"Hackathon_case_training_hist_data.csv\")\n",
    "dataset3 = pd.read_csv(\"Hackthon_case_training_output.csv\")\n",
    "\n"
   ]
  },
  {
   "cell_type": "code",
   "execution_count": 3,
   "metadata": {},
   "outputs": [
    {
     "name": "stdout",
     "output_type": "stream",
     "text": [
      "id                              0\n",
      "activity_new                 9545\n",
      "campaign_disc_ele           16096\n",
      "channel_sales                4218\n",
      "cons_12m                        0\n",
      "cons_gas_12m                    0\n",
      "cons_last_month                 0\n",
      "date_activ                      0\n",
      "date_end                        2\n",
      "date_first_activ            12588\n",
      "date_modif_prod               157\n",
      "date_renewal                   40\n",
      "forecast_base_bill_ele      12588\n",
      "forecast_base_bill_year     12588\n",
      "forecast_bill_12m           12588\n",
      "forecast_cons               12588\n",
      "forecast_cons_12m               0\n",
      "forecast_cons_year              0\n",
      "forecast_discount_energy      126\n",
      "forecast_meter_rent_12m         0\n",
      "forecast_price_energy_p1      126\n",
      "forecast_price_energy_p2      126\n",
      "forecast_price_pow_p1         126\n",
      "has_gas                         0\n",
      "imp_cons                        0\n",
      "margin_gross_pow_ele           13\n",
      "margin_net_pow_ele             13\n",
      "nb_prod_act                     0\n",
      "net_margin                     15\n",
      "num_years_antig                 0\n",
      "origin_up                      87\n",
      "pow_max                         3\n",
      "dtype: int64\n",
      "id                 0\n",
      "price_date         0\n",
      "price_p1_var    1359\n",
      "price_p2_var    1359\n",
      "price_p3_var    1359\n",
      "price_p1_fix    1359\n",
      "price_p2_fix    1359\n",
      "price_p3_fix    1359\n",
      "dtype: int64\n"
     ]
    }
   ],
   "source": [
    "\"\"\"     TASK 1 :    FINDING VARIABLES INDICATING CHURN      \"\"\"\n",
    "\n",
    "\n",
    "\"\"\" checking columns with null values in datasets \"\"\"\n",
    "print(dataset1.isnull().sum())\n",
    "print(dataset2.isnull().sum())\n"
   ]
  },
  {
   "cell_type": "code",
   "execution_count": 4,
   "metadata": {},
   "outputs": [],
   "source": [
    "\"\"\" dropping column which had all enties as null \"\"\"\n",
    "dataset1.drop('campaign_disc_ele', axis=1, inplace=True)\n"
   ]
  },
  {
   "cell_type": "code",
   "execution_count": 5,
   "metadata": {},
   "outputs": [
    {
     "name": "stdout",
     "output_type": "stream",
     "text": [
      "1.0\n"
     ]
    }
   ],
   "source": [
    "\n",
    "\"\"\" checking coorelation between independent variables \"\"\"\n",
    "test = dataset1\n",
    "test = test.dropna(axis=0, subset=['forecast_cons'])\n",
    "print(test['forecast_cons'].corr(test['imp_cons']))\n"
   ]
  },
  {
   "cell_type": "code",
   "execution_count": 6,
   "metadata": {},
   "outputs": [],
   "source": [
    "\n",
    "\"\"\" filling missing values on the basis of coorelation \"\"\"\n",
    "dataset1['forecast_cons']=dataset1['imp_cons']\n"
   ]
  },
  {
   "cell_type": "code",
   "execution_count": 7,
   "metadata": {},
   "outputs": [],
   "source": [
    "\n",
    "\"\"\" dropping rows which had null value  \"\"\"\n",
    "dataset1 = dataset1.dropna(axis=0, subset=['date_end'])\n",
    "dataset1 = dataset1.dropna(axis=0, subset=['pow_max'])\n",
    "dataset1 = dataset1.dropna(axis=0, subset=['pow_max'])\n"
   ]
  },
  {
   "cell_type": "code",
   "execution_count": 8,
   "metadata": {},
   "outputs": [],
   "source": [
    "\n",
    "\"\"\" Converting dates into days to include into dataset \"\"\"\n",
    "dataset1['date_activ'] = pd.to_datetime(dataset1['date_activ'])\n",
    "dataset1['date_end'] = pd.to_datetime(dataset1['date_end'])\n",
    "dataset1['contract_duration'] = (dataset1['date_end'] - dataset1['date_activ']).dt.days\n"
   ]
  },
  {
   "cell_type": "code",
   "execution_count": 9,
   "metadata": {},
   "outputs": [],
   "source": [
    "\n",
    "\"\"\" dropping columns which do not appear to be influencing churn output much \"\"\"\n",
    "dataset1.drop('activity_new',axis=1, inplace=True)\n",
    "dataset1.drop('date_first_activ',axis=1, inplace=True)\n",
    "dataset1.drop('date_modif_prod',axis=1, inplace=True)\n",
    "dataset1.drop('date_renewal',axis=1, inplace=True)\n",
    "dataset1.drop('date_activ',axis=1, inplace=True)\n",
    "dataset1.drop('date_end',axis=1, inplace=True)\n",
    "dataset1.drop('forecast_base_bill_ele',axis=1, inplace=True)\n",
    "dataset1.drop('forecast_base_bill_year',axis=1, inplace=True)\n",
    "dataset1.drop('forecast_bill_12m',axis=1, inplace=True)\n"
   ]
  },
  {
   "cell_type": "code",
   "execution_count": 10,
   "metadata": {},
   "outputs": [
    {
     "name": "stdout",
     "output_type": "stream",
     "text": [
      "foosdfpfkusacimwkcsosbicdxkicaua    7374\n",
      "lmkebamcaaclubfxadlmueccxoimlema    2073\n",
      "usilxuppasemubllopkaafesmlibmsdf    1444\n",
      "ewpakwlliwisiwduibdlfmalxowmwpci     966\n",
      "sddiedcslfslkckwlfkdpoeeailfpeds      12\n",
      "epumfxlbckeskwekxbiuasklxalciiuu       4\n",
      "fixdbufsefwooaasfcxdxadsiekoceaa       2\n",
      "Name: channel_sales, dtype: int64 \n",
      "\n",
      "lxidpiddsbxsbosboudacockeimpuepw    7821\n",
      "kamkkxfxxuwbdslkwifmmcsiusiuosws    4516\n",
      "ldkssxwpmemidmecebumciepifcamkci    3664\n",
      "usapbepcfoloekilkwsdiboslwaxobdp       2\n",
      "ewxeelcelemmiwuafmddpobolfuxioce       1\n",
      "Name: origin_up, dtype: int64 \n",
      "\n",
      "0.0     15387\n",
      "30.0      280\n",
      "24.0      112\n",
      "28.0      102\n",
      "22.0       57\n",
      "25.0        7\n",
      "26.0        5\n",
      "19.0        4\n",
      "17.0        3\n",
      "50.0        2\n",
      "23.0        2\n",
      "10.0        2\n",
      "12.0        1\n",
      "5.0         1\n",
      "Name: forecast_discount_energy, dtype: int64 \n",
      "\n",
      "0.00       205\n",
      "0.49         6\n",
      "0.01         6\n",
      "20.70        5\n",
      "35.98        5\n",
      "57.37        5\n",
      "86.52        5\n",
      "56.33        5\n",
      "0.02         5\n",
      "21.99        4\n",
      "46.30        4\n",
      "36.11        4\n",
      "40.03        4\n",
      "56.24        4\n",
      "77.54        4\n",
      "113.00       4\n",
      "111.75       4\n",
      "28.37        4\n",
      "38.85        4\n",
      "31.06        4\n",
      "33.31        4\n",
      "23.20        4\n",
      "79.45        4\n",
      "44.16        4\n",
      "0.23         4\n",
      "82.53        4\n",
      "100.41       4\n",
      "32.66        4\n",
      "27.68        4\n",
      "74.78        4\n",
      "          ... \n",
      "440.21       1\n",
      "250.80       1\n",
      "2065.92      1\n",
      "441.79       1\n",
      "36.21        1\n",
      "431.37       1\n",
      "225.92       1\n",
      "274.47       1\n",
      "583.61       1\n",
      "39.37        1\n",
      "676.39       1\n",
      "74.13        1\n",
      "292.36       1\n",
      "35.10        1\n",
      "158.59       1\n",
      "155.00       1\n",
      "106.52       1\n",
      "316.82       1\n",
      "28.10        1\n",
      "109.91       1\n",
      "25.78        1\n",
      "598.96       1\n",
      "61.95        1\n",
      "141.82       1\n",
      "13.59        1\n",
      "288.90       1\n",
      "81.80        1\n",
      "19.07        1\n",
      "1829.01      1\n",
      "60.00        1\n",
      "Name: net_margin, Length: 13187, dtype: int64 \n",
      "\n",
      " 26.04     266\n",
      " 33.12     243\n",
      " 29.76     174\n",
      " 0.00      169\n",
      " 34.68     168\n",
      " 16.92     161\n",
      " 23.76     160\n",
      " 10.08     153\n",
      " 19.20     144\n",
      " 0.12      139\n",
      " 14.64     136\n",
      " 21.52     135\n",
      " 12.36     130\n",
      " 12.82     120\n",
      " 31.20     118\n",
      " 19.28     115\n",
      " 23.40     111\n",
      " 24.42     110\n",
      " 30.22      96\n",
      " 21.48      95\n",
      " 15.72      95\n",
      " 18.62      94\n",
      " 31.64      91\n",
      " 37.56      87\n",
      " 7.80       83\n",
      " 29.64      82\n",
      " 19.48      81\n",
      " 21.09      80\n",
      " 16.66      79\n",
      " 13.40      79\n",
      "          ... \n",
      " 14.93       1\n",
      " 24.46       1\n",
      " 14.73       1\n",
      " 34.20       1\n",
      " 38.82       1\n",
      " 23.91       1\n",
      " 17.79       1\n",
      " 26.94       1\n",
      "-322.20      1\n",
      "-3.67        1\n",
      " 25.62       1\n",
      "-19.32       1\n",
      " 32.31       1\n",
      " 16.53       1\n",
      "-141.20      1\n",
      " 55.80       1\n",
      " 117.02      1\n",
      "-16.01       1\n",
      " 59.79       1\n",
      " 41.32       1\n",
      "-26.29       1\n",
      " 47.22       1\n",
      " 42.38       1\n",
      " 31.83       1\n",
      " 199.56      1\n",
      " 35.21       1\n",
      " 33.61       1\n",
      " 139.32      1\n",
      "-10.80       1\n",
      " 26.99       1\n",
      "Name: margin_net_pow_ele, Length: 2972, dtype: int64 \n",
      "\n",
      " 26.04     266\n",
      " 33.12     243\n",
      " 0.00      176\n",
      " 29.76     174\n",
      " 34.68     168\n",
      " 23.76     161\n",
      " 16.92     161\n",
      " 10.08     153\n",
      " 0.12      151\n",
      " 19.20     144\n",
      " 14.64     136\n",
      " 21.52     135\n",
      " 12.36     130\n",
      " 12.82     120\n",
      " 31.20     118\n",
      " 19.28     115\n",
      " 23.40     111\n",
      " 24.42     110\n",
      " 30.22      96\n",
      " 15.72      95\n",
      " 21.48      95\n",
      " 18.62      95\n",
      " 31.64      91\n",
      " 37.56      87\n",
      " 7.80       83\n",
      " 29.64      82\n",
      " 19.48      81\n",
      " 21.09      80\n",
      " 16.66      79\n",
      " 13.40      79\n",
      "          ... \n",
      " 27.80       1\n",
      " 70.42       1\n",
      "-0.80        1\n",
      " 74.98       1\n",
      "-8.70        1\n",
      " 57.06       1\n",
      " 36.75       1\n",
      " 104.88      1\n",
      "-6.27        1\n",
      " 26.48       1\n",
      " 28.04       1\n",
      " 69.04       1\n",
      " 81.57       1\n",
      " 27.79       1\n",
      " 32.45       1\n",
      " 66.72       1\n",
      " 49.14       1\n",
      " 120.70      1\n",
      " 169.80      1\n",
      " 73.80       1\n",
      "-3.10        1\n",
      " 125.69      1\n",
      " 28.70       1\n",
      " 7.53        1\n",
      " 93.18       1\n",
      "-0.82        1\n",
      "-1.18        1\n",
      " 77.52       1\n",
      " 54.29       1\n",
      " 26.77       1\n",
      "Name: margin_gross_pow_ele, Length: 2945, dtype: int64 \n",
      "\n"
     ]
    }
   ],
   "source": [
    "\"\"\" checking unique \"\"\"\n",
    "print(dataset1['channel_sales'].value_counts(),\"\\n\")\n",
    "print(dataset1['origin_up'].value_counts(),\"\\n\")\n",
    "print(dataset1['forecast_discount_energy'].value_counts(),\"\\n\")\n",
    "print(dataset1['net_margin'].value_counts(),\"\\n\")  \n",
    "print(dataset1['margin_net_pow_ele'].value_counts(),\"\\n\") \n",
    "print(dataset1['margin_gross_pow_ele'].value_counts(),\"\\n\")\n"
   ]
  },
  {
   "cell_type": "code",
   "execution_count": 11,
   "metadata": {},
   "outputs": [],
   "source": [
    "\"\"\" filling most frequent in place of missing values \"\"\"\n",
    "dataset1['channel_sales'] = dataset1['channel_sales'].fillna(dataset1['channel_sales'].value_counts().index[0])\n",
    "dataset1['origin_up'] = dataset1['origin_up'].fillna(dataset1['origin_up'].value_counts().index[0])\n",
    "dataset1['forecast_discount_energy'] = dataset1['forecast_discount_energy'].fillna(dataset1['forecast_discount_energy'].value_counts().index[0]) #filled 0\n",
    "dataset1['net_margin'] = dataset1['net_margin'].fillna(dataset1['net_margin'].value_counts().index[0])\n",
    "dataset1['margin_net_pow_ele'] = dataset1['margin_net_pow_ele'].fillna(dataset1['margin_net_pow_ele'].value_counts().index[0])\n",
    "dataset1['margin_gross_pow_ele'] = dataset1['margin_gross_pow_ele'].fillna(dataset1['margin_gross_pow_ele'].value_counts().index[0])\n"
   ]
  },
  {
   "cell_type": "code",
   "execution_count": 13,
   "metadata": {},
   "outputs": [],
   "source": [
    "\n",
    "\"\"\" filling zero because the customer appears inactive last month \"\"\"\n",
    "dataset1['forecast_price_energy_p1'].fillna(0,inplace = True)\n",
    "dataset1['forecast_price_energy_p2'].fillna(0,inplace = True)\n",
    "dataset1['forecast_price_pow_p1'].fillna(0,inplace = True)\n"
   ]
  },
  {
   "cell_type": "code",
   "execution_count": 14,
   "metadata": {},
   "outputs": [
    {
     "data": {
      "image/png": "[encoded data removed]",
      "text/plain": [
       "<Figure size 432x288 with 1 Axes>"
      ]
     },
     "metadata": {
      "needs_background": "light"
     },
     "output_type": "display_data"
    }
   ],
   "source": [
    "\"\"\"    TASK 2  :  finding relation between subscribed power and consumption   \"\"\"\n",
    "\n",
    "\n",
    "x = dataset1.iloc[:,14].values\n",
    "y = dataset1.iloc[:,21].values\n",
    "fig,axis=plt.subplots()\n",
    "axis.scatter(x,y)\n",
    "plt.title('subscribed power vs consumption')\n",
    "plt.xlabel('consumption')\n",
    "plt.ylabel('subscribed power')\n",
    "plt.show()\n"
   ]
  },
  {
   "cell_type": "code",
   "execution_count": 15,
   "metadata": {},
   "outputs": [],
   "source": [
    "\"\"\"\n",
    "from sklearn.linear_model import LinearRegression\n",
    "regressor = LinearRegression()\n",
    "regressor.fit(x,y)\n",
    "plt.scatter(x, y, color = 'red')\n",
    "plt.plot(x, regressor.predict(x, color = 'blue'))\n",
    "plt.title('subscribed power vs consumption')\n",
    "plt.xlabel('consumption')\n",
    "plt.ylabel('subscribed power')\n",
    "plt.show()\n",
    "\"\"\"\n",
    "\n",
    "\"\"\" filling top values in successive rows \"\"\"\n",
    "dataset2 = dataset2.fillna(method='ffill')\n"
   ]
  },
  {
   "cell_type": "code",
   "execution_count": 16,
   "metadata": {},
   "outputs": [],
   "source": [
    "\"\"\" adding dataset2 in dataset1 for including historical data in our dataset \"\"\"\n",
    "dataset1 = pd.merge(dataset1,dataset2.groupby('id').agg({'price_p1_var': np.mean,'price_p2_var':np.mean,'price_p3_var':np.mean,'price_p1_fix':np.mean,'price_p2_fix':np.mean,'price_p3_fix':np.mean}),on='id')  "
   ]
  },
  {
   "cell_type": "code",
   "execution_count": 17,
   "metadata": {},
   "outputs": [],
   "source": [
    "\"\"\" converting object type to dataframe \"\"\"\n",
    "temp = dataset1['id']\n",
    "temp = pd.DataFrame(temp)\n",
    "dataset1 = dataset1.iloc[:,1:].values\n"
   ]
  },
  {
   "cell_type": "code",
   "execution_count": 18,
   "metadata": {},
   "outputs": [],
   "source": [
    "\n",
    "#Z = pd.DataFrame(dataset1)\n",
    "\n",
    "\"\"\" Encoding categorical variables \"\"\"\n",
    "labelencoder_x_1 = LabelEncoder()\n",
    "dataset1[:,0] = labelencoder_x_1.fit_transform(dataset1[:,0])\n",
    "labelencoder_x_2 = LabelEncoder()\n",
    "dataset1[:,12] = labelencoder_x_2.fit_transform(dataset1[:,12])\n",
    "labelencoder_x_3 = LabelEncoder()\n",
    "dataset1[:,19] = labelencoder_x_3.fit_transform(dataset1[:,19])\n"
   ]
  },
  {
   "cell_type": "code",
   "execution_count": 19,
   "metadata": {},
   "outputs": [
    {
     "name": "stderr",
     "output_type": "stream",
     "text": [
      "/Users/pooja/anaconda3/lib/python3.7/site-packages/sklearn/preprocessing/_encoders.py:368: FutureWarning: The handling of integer data will change in version 0.22. Currently, the categories are determined based on the range [0, max(values)], while in the future they will be determined based on the unique values.\n",
      "If you want the future behaviour and silence this warning, you can specify \"categories='auto'\".\n",
      "In case you used a LabelEncoder before this OneHotEncoder to convert the categories to integers, then you can now use the OneHotEncoder directly.\n",
      "  warnings.warn(msg, FutureWarning)\n",
      "/Users/pooja/anaconda3/lib/python3.7/site-packages/sklearn/preprocessing/_encoders.py:390: DeprecationWarning: The 'categorical_features' keyword is deprecated in version 0.20 and will be removed in 0.22. You can use the ColumnTransformer instead.\n",
      "  \"use the ColumnTransformer instead.\", DeprecationWarning)\n",
      "/Users/pooja/anaconda3/lib/python3.7/site-packages/sklearn/preprocessing/_encoders.py:368: FutureWarning: The handling of integer data will change in version 0.22. Currently, the categories are determined based on the range [0, max(values)], while in the future they will be determined based on the unique values.\n",
      "If you want the future behaviour and silence this warning, you can specify \"categories='auto'\".\n",
      "In case you used a LabelEncoder before this OneHotEncoder to convert the categories to integers, then you can now use the OneHotEncoder directly.\n",
      "  warnings.warn(msg, FutureWarning)\n",
      "/Users/pooja/anaconda3/lib/python3.7/site-packages/sklearn/preprocessing/_encoders.py:390: DeprecationWarning: The 'categorical_features' keyword is deprecated in version 0.20 and will be removed in 0.22. You can use the ColumnTransformer instead.\n",
      "  \"use the ColumnTransformer instead.\", DeprecationWarning)\n"
     ]
    }
   ],
   "source": [
    "\n",
    "Z = pd.DataFrame(dataset1)\n",
    "\n",
    "#Encoding categorical variables so that none has priority over the other\n",
    "\n",
    "onehotencoder1 = OneHotEncoder(categorical_features = [0])\n",
    "dataset1 = onehotencoder1.fit_transform(dataset1).toarray()\n",
    "dataset1 = dataset1[:, 1:]\n",
    "Z = pd.DataFrame(dataset1)\n",
    "onehotencoder3 = OneHotEncoder(categorical_features = [24])\n",
    "dataset1 = onehotencoder3.fit_transform(dataset1).toarray()\n",
    "dataset1 = dataset1[:, 1:]\n",
    "dataset1 = pd.DataFrame(dataset1)\n"
   ]
  },
  {
   "cell_type": "code",
   "execution_count": null,
   "metadata": {},
   "outputs": [],
   "source": []
  }
 ],
 "metadata": {
  "kernelspec": {
   "display_name": "Python 3",
   "language": "python",
   "name": "python3"
  },
  "language_info": {
   "codemirror_mode": {
    "name": "ipython",
    "version": 3
   },
   "file_extension": ".py",
   "mimetype": "text/x-python",
   "name": "python",
   "nbconvert_exporter": "python",
   "pygments_lexer": "ipython3",
   "version": "3.7.1"
  }
 },
 "nbformat": 4,
 "nbformat_minor": 2
}
